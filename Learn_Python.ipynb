{
  "nbformat": 4,
  "nbformat_minor": 0,
  "metadata": {
    "colab": {
      "provenance": [],
      "authorship_tag": "ABX9TyMfJtsDnHpJSUO8NgjmLz2n",
      "include_colab_link": true
    },
    "kernelspec": {
      "name": "python3",
      "display_name": "Python 3"
    },
    "language_info": {
      "name": "python"
    }
  },
  "cells": [
    {
      "cell_type": "markdown",
      "metadata": {
        "id": "view-in-github",
        "colab_type": "text"
      },
      "source": [
        "<a href=\"https://colab.research.google.com/github/manhhung20033/manhhung20033/blob/main/Learn_Python.ipynb\" target=\"_parent\"><img src=\"https://colab.research.google.com/assets/colab-badge.svg\" alt=\"Open In Colab\"/></a>"
      ]
    },
    {
      "cell_type": "markdown",
      "source": [
        "Hello world\n"
      ],
      "metadata": {
        "id": "vE9iNVJZEry0"
      }
    },
    {
      "cell_type": "code",
      "source": [
        "#this is a comment\n",
        "print(\"Hello world\")\n",
        "print(5/8)\n",
        "5/8 # this only prints in IPython notebooks and shells."
      ],
      "metadata": {
        "colab": {
          "base_uri": "https://localhost:8080/"
        },
        "id": "fzkaMQykEufE",
        "outputId": "12851350-f252-4ee4-add7-f17c2b61b1e4"
      },
      "execution_count": null,
      "outputs": [
        {
          "output_type": "stream",
          "name": "stdout",
          "text": [
            "Hello world\n",
            "0.625\n"
          ]
        },
        {
          "output_type": "execute_result",
          "data": {
            "text/plain": [
              "0.625"
            ]
          },
          "metadata": {},
          "execution_count": 1
        }
      ]
    },
    {
      "cell_type": "markdown",
      "source": [
        "Basic data types"
      ],
      "metadata": {
        "id": "yLCZQ7uKFDSB"
      }
    },
    {
      "cell_type": "markdown",
      "source": [
        "Python has all the basic data types and operation: int, float, str, bool, None."
      ],
      "metadata": {
        "id": "24tGXV4HGWU9"
      }
    },
    {
      "cell_type": "code",
      "source": [
        "#You can use type() to get a variable's type\n",
        "s = 5\n",
        "type(s)\n",
        "s > 3 #using Booleans: True or False \n",
        "s = \"The answer is \"\n",
        "type(s)"
      ],
      "metadata": {
        "colab": {
          "base_uri": "https://localhost:8080/"
        },
        "id": "PBof0CwIFGZZ",
        "outputId": "443dafb3-c7cf-4f82-9afe-40fc99630e1f"
      },
      "execution_count": null,
      "outputs": [
        {
          "output_type": "execute_result",
          "data": {
            "text/plain": [
              "str"
            ]
          },
          "metadata": {},
          "execution_count": 2
        }
      ]
    },
    {
      "cell_type": "code",
      "source": [
        "1.0 + 2       # float + int -> float\n",
        "s + str(42)   # string + string\n",
        "# s + 42      # bad: string + int "
      ],
      "metadata": {
        "colab": {
          "base_uri": "https://localhost:8080/",
          "height": 36
        },
        "id": "n6Ja6WFwUlj6",
        "outputId": "c46df7cd-5057-45bc-c0c2-b51cf7b19eae"
      },
      "execution_count": null,
      "outputs": [
        {
          "output_type": "execute_result",
          "data": {
            "text/plain": [
              "'The answer is 42'"
            ],
            "application/vnd.google.colaboratory.intrinsic+json": {
              "type": "string"
            }
          },
          "metadata": {},
          "execution_count": 3
        }
      ]
    },
    {
      "cell_type": "markdown",
      "source": [
        "Complex types"
      ],
      "metadata": {
        "id": "kl4slu9Xb4JQ"
      }
    },
    {
      "cell_type": "markdown",
      "source": [
        "The main complex data types are list, tuples, sets and dictionaries (dicts)."
      ],
      "metadata": {
        "id": "pqYC7eYpsC7f"
      }
    },
    {
      "cell_type": "code",
      "source": [
        "l = [1,2,3,4,5,6,6]     # list\n",
        "t = (1,2,3,4,5,6)       # tuple: like a list, but immutable\n",
        "s =set((1,2,3,4,5,6))   # set: unordered, you need to use add() to add new elemen\n",
        "d = {2: \"a\",            # dict: has key - value pairs\n",
        "    3: \"b\",\n",
        "    \"foo\": \"c\",\n",
        "    \"bar\": \"d\"}\n",
        "\n",
        "l #Note how each of these is printed\n",
        "t\n",
        "s\n",
        "d"
      ],
      "metadata": {
        "colab": {
          "base_uri": "https://localhost:8080/"
        },
        "id": "Y7Vu6iOvb6pV",
        "outputId": "404cd78a-f8b2-4485-a5ab-a71e30f7e6ca"
      },
      "execution_count": null,
      "outputs": [
        {
          "output_type": "execute_result",
          "data": {
            "text/plain": [
              "{2: 'a', 3: 'b', 'foo': 'c', 'bar': 'd'}"
            ]
          },
          "metadata": {},
          "execution_count": 2
        }
      ]
    },
    {
      "cell_type": "markdown",
      "source": [
        "You can use indices to retrun a value (except for sets, they are unordered)"
      ],
      "metadata": {
        "id": "Y9BGerTRtyzL"
      }
    },
    {
      "cell_type": "code",
      "source": [
        "l\n",
        "l[2]\n",
        "t\n",
        "t[2]\n",
        "d\n",
        "d[\"bar\"]"
      ],
      "metadata": {
        "colab": {
          "base_uri": "https://localhost:8080/",
          "height": 36
        },
        "id": "tZkFR1yttJLM",
        "outputId": "2db1fd88-72a7-49dd-f0f7-d245e56508a1"
      },
      "execution_count": null,
      "outputs": [
        {
          "output_type": "execute_result",
          "data": {
            "text/plain": [
              "'d'"
            ],
            "application/vnd.google.colaboratory.intrinsic+json": {
              "type": "string"
            }
          },
          "metadata": {},
          "execution_count": 7
        }
      ]
    },
    {
      "cell_type": "code",
      "source": [
        "l\n",
        "l[2] = 7 #Lists are mutable\n",
        "l"
      ],
      "metadata": {
        "colab": {
          "base_uri": "https://localhost:8080/"
        },
        "id": "nqn2R5oJuTWM",
        "outputId": "d2aac35a-e320-4b28-e198-d0473eaa93fe"
      },
      "execution_count": null,
      "outputs": [
        {
          "output_type": "execute_result",
          "data": {
            "text/plain": [
              "[1, 2, 7, 4, 5, 6, 6]"
            ]
          },
          "metadata": {},
          "execution_count": 9
        }
      ]
    },
    {
      "cell_type": "markdown",
      "source": [
        "Python allows convenient tuple packing/unpacking"
      ],
      "metadata": {
        "id": "zrDwzzXfufA7"
      }
    },
    {
      "cell_type": "code",
      "source": [
        "b = (\"Bob\", 19, \"CS\")       # tuple packing\n",
        "(name,age,studies) = b      #tuple unpacking\n",
        "name,age"
      ],
      "metadata": {
        "colab": {
          "base_uri": "https://localhost:8080/"
        },
        "id": "Wd-0jPkbumRx",
        "outputId": "e50ffff2-9ddb-494f-a297-50a0122259fb"
      },
      "execution_count": null,
      "outputs": [
        {
          "output_type": "execute_result",
          "data": {
            "text/plain": [
              "('Bob', 19)"
            ]
          },
          "metadata": {},
          "execution_count": 12
        }
      ]
    },
    {
      "cell_type": "markdown",
      "source": [
        "**STRING**"
      ],
      "metadata": {
        "id": "QqEk-7DbvHLi"
      }
    },
    {
      "cell_type": "code",
      "source": [
        "s = \"the %s is %d\" % ('answer', 42)\n",
        "s   # %s -> answer; %d -> 42\n",
        "s[0]\n",
        "s[4:10]"
      ],
      "metadata": {
        "colab": {
          "base_uri": "https://localhost:8080/",
          "height": 36
        },
        "id": "nKCYS_W8vKB0",
        "outputId": "c80e7d35-bac5-4484-c73a-3820bb46c1cb"
      },
      "execution_count": null,
      "outputs": [
        {
          "output_type": "execute_result",
          "data": {
            "text/plain": [
              "'answer'"
            ],
            "application/vnd.google.colaboratory.intrinsic+json": {
              "type": "string"
            }
          },
          "metadata": {},
          "execution_count": 15
        }
      ]
    },
    {
      "cell_type": "markdown",
      "source": [
        "The also have a format() function for more complex formatting"
      ],
      "metadata": {
        "id": "xwO3dN9EwN-P"
      }
    },
    {
      "cell_type": "code",
      "source": [
        "l = [1,2,3,4,5,6]\n",
        "\"{}\".format(l)\n",
        "\"%s\" % l\n",
        "\"{first} {last}\".format(**{'first':'Hodor',\n",
        "                           'last' : 'Hodor!'})"
      ],
      "metadata": {
        "colab": {
          "base_uri": "https://localhost:8080/",
          "height": 36
        },
        "id": "mtbDFwNZwUZN",
        "outputId": "2c316fb7-9da3-4edb-be2e-8b10663a0dfe"
      },
      "execution_count": null,
      "outputs": [
        {
          "output_type": "execute_result",
          "data": {
            "text/plain": [
              "'Hodor Hodor!'"
            ],
            "application/vnd.google.colaboratory.intrinsic+json": {
              "type": "string"
            }
          },
          "metadata": {},
          "execution_count": 20
        }
      ]
    },
    {
      "cell_type": "markdown",
      "source": [
        "**FOR LOOPS, IF STATEMENTS**"
      ],
      "metadata": {
        "id": "2Ti9vtwrx897"
      }
    },
    {
      "cell_type": "code",
      "source": [
        "l = [1,2,3]\n",
        "d = {\"foo\" : \"c\", \"bar\" : \"d\"}\n",
        "\n",
        "for i in l:\n",
        "    print(i)\n",
        "\n",
        "for k,v in d.items() : #Note how key-value pairs are extracted\n",
        "    print (\"%s : %s\" % (k,v))\n",
        "\n",
        "if len(l) > 3:\n",
        "    print('Long list')\n",
        "else:\n",
        "    print ('Short list')\n"
      ],
      "metadata": {
        "colab": {
          "base_uri": "https://localhost:8080/"
        },
        "id": "zg88g-5EyFLD",
        "outputId": "6f3ffe1d-6f6c-4336-b973-a8a1d2dec29d"
      },
      "execution_count": null,
      "outputs": [
        {
          "output_type": "stream",
          "name": "stdout",
          "text": [
            "1\n",
            "2\n",
            "3\n",
            "foo : c\n",
            "bar : d\n",
            "Short list\n"
          ]
        }
      ]
    },
    {
      "cell_type": "markdown",
      "source": [
        "**FUNCTION**"
      ],
      "metadata": {
        "id": "8Ajmgfw-mMeR"
      }
    },
    {
      "cell_type": "code",
      "source": [
        "def myfunc(a,b):\n",
        "    return a +b\n",
        "\n",
        "myfunc(2,3)"
      ],
      "metadata": {
        "colab": {
          "base_uri": "https://localhost:8080/"
        },
        "id": "OvTzbgTFmP92",
        "outputId": "58520b30-b1c2-4469-ea10-98b715842871"
      },
      "execution_count": null,
      "outputs": [
        {
          "output_type": "execute_result",
          "data": {
            "text/plain": [
              "5"
            ]
          },
          "metadata": {},
          "execution_count": 2
        }
      ]
    },
    {
      "cell_type": "markdown",
      "source": [
        "Function arguments (parameters) can be:\n",
        "  - Variable-length (indicated with *)\n",
        "  - a dictionary of keyword arguments (indicated with **)\n",
        "  - Given a default value, in which case they are not required (but have to come last) "
      ],
      "metadata": {
        "id": "fjMwBX-HnDPu"
      }
    },
    {
      "cell_type": "code",
      "source": [
        "def func(*argv, **kwarg):\n",
        "  print(\"func argv: %s\" % str(argv) )\n",
        "  print(\"func lwarg: %s\" % str(kwarg))\n",
        "\n",
        "func(2,3,a=4)\n",
        "\n",
        "def func (a):\n",
        "  print(a*a)\n",
        "\n",
        "func(3)"
      ],
      "metadata": {
        "colab": {
          "base_uri": "https://localhost:8080/"
        },
        "id": "cdcnd4wCnhmy",
        "outputId": "d29417ff-b3a4-4dce-8351-f03c35e49104"
      },
      "execution_count": null,
      "outputs": [
        {
          "output_type": "stream",
          "name": "stdout",
          "text": [
            "func argv: (2, 3)\n",
            "func lwarg: {'a': 4}\n",
            "9\n"
          ]
        }
      ]
    },
    {
      "cell_type": "code",
      "source": [
        "def fund(*argv):\n",
        "  return sum(argv[0:2], sum(argv[2:4]))\n",
        "\n",
        "fund(2,6)"
      ],
      "metadata": {
        "colab": {
          "base_uri": "https://localhost:8080/"
        },
        "id": "JGDSQgXcw7Qf",
        "outputId": "d89482a6-0fcc-4798-b80e-d1c32aa8faa3"
      },
      "execution_count": null,
      "outputs": [
        {
          "output_type": "execute_result",
          "data": {
            "text/plain": [
              "8"
            ]
          },
          "metadata": {},
          "execution_count": 33
        }
      ]
    },
    {
      "cell_type": "code",
      "source": [
        "def squares(limit):\n",
        "    r = 0\n",
        "    ret = []\n",
        "    while r < limit:\n",
        "      ret.append(r**2)\n",
        "      r +=1\n",
        "    return ret\n",
        "\n",
        "for i in squares(4):\n",
        "  print(i)"
      ],
      "metadata": {
        "colab": {
          "base_uri": "https://localhost:8080/"
        },
        "id": "gayb7Qfs1BX9",
        "outputId": "ecd25d54-68eb-451e-c2bd-2b55600bfcf0"
      },
      "execution_count": null,
      "outputs": [
        {
          "output_type": "stream",
          "name": "stdout",
          "text": [
            "0\n",
            "1\n",
            "4\n",
            "9\n"
          ]
        }
      ]
    },
    {
      "cell_type": "markdown",
      "source": [
        "Functions can be passed as arguments to other functions"
      ],
      "metadata": {
        "id": "oCkLPG1J21rh"
      }
    },
    {
      "cell_type": "code",
      "source": [
        "def greet(name):\n",
        "    return \"hello \" + name\n",
        "\n",
        "name = \"hung\"\n",
        "greet(name)\n"
      ],
      "metadata": {
        "colab": {
          "base_uri": "https://localhost:8080/",
          "height": 36
        },
        "id": "mAL2q39W27ua",
        "outputId": "c0ff7f9c-05f0-4e94-803e-c5b23a8d41ea"
      },
      "execution_count": null,
      "outputs": [
        {
          "output_type": "execute_result",
          "data": {
            "text/plain": [
              "'hello hung'"
            ],
            "application/vnd.google.colaboratory.intrinsic+json": {
              "type": "string"
            }
          },
          "metadata": {},
          "execution_count": 31
        }
      ]
    },
    {
      "cell_type": "code",
      "source": [
        "def call_func(func):\n",
        "  other_name = \"john\"\n",
        "  return func(other_name)\n",
        "call_func(greet)"
      ],
      "metadata": {
        "colab": {
          "base_uri": "https://localhost:8080/",
          "height": 36
        },
        "id": "PXSene_T3LOB",
        "outputId": "cbe2b1be-9c91-47a3-8f7b-474afaf23031"
      },
      "execution_count": null,
      "outputs": [
        {
          "output_type": "execute_result",
          "data": {
            "text/plain": [
              "'hello john'"
            ],
            "application/vnd.google.colaboratory.intrinsic+json": {
              "type": "string"
            }
          },
          "metadata": {},
          "execution_count": 34
        }
      ]
    },
    {
      "cell_type": "code",
      "source": [
        "def compose_greet_func():\n",
        "  def get_message():\n",
        "    return \"hello there!\"\n",
        "  return get_message\n",
        "\n",
        "greet = compose_greet_func()\n",
        "greet()"
      ],
      "metadata": {
        "colab": {
          "base_uri": "https://localhost:8080/",
          "height": 36
        },
        "id": "2dQpF6AT7TGK",
        "outputId": "a0e6c1e7-0ff7-4974-d740-4360185f7afa"
      },
      "execution_count": null,
      "outputs": [
        {
          "output_type": "execute_result",
          "data": {
            "text/plain": [
              "'hello there!'"
            ],
            "application/vnd.google.colaboratory.intrinsic+json": {
              "type": "string"
            }
          },
          "metadata": {},
          "execution_count": 36
        }
      ]
    },
    {
      "cell_type": "markdown",
      "source": [
        "**CLASSES**"
      ],
      "metadata": {
        "id": "ppSWoIEE8JLc"
      }
    },
    {
      "cell_type": "markdown",
      "source": [
        "defined"
      ],
      "metadata": {
        "id": "BbLrfGgqBHYb"
      }
    },
    {
      "cell_type": "code",
      "source": [
        "class TestClass(object): # TestClass inherits from object.\n",
        "    myvar = \"\"\n",
        "\n",
        "    def __init__(self, myString): # optional constructor, returns nothing\n",
        "        self.myvar = myString # 'self' is used to store instance properties\n",
        "    \n",
        "    def say(self, what): # you need to add self as the first argument \n",
        "        return self.myvar + str(what)\n",
        "\n",
        "a = TestClass(\"The new answer is \")\n",
        "#a.myvar # You can retrieve all properties of self\n",
        "a.say(42)"
      ],
      "metadata": {
        "colab": {
          "base_uri": "https://localhost:8080/",
          "height": 36
        },
        "id": "6c7FPjqU8OuB",
        "outputId": "61efe89c-612e-493e-feff-fc471dec6d15"
      },
      "execution_count": null,
      "outputs": [
        {
          "output_type": "execute_result",
          "data": {
            "text/plain": [
              "'The new answer is 42'"
            ],
            "application/vnd.google.colaboratory.intrinsic+json": {
              "type": "string"
            }
          },
          "metadata": {},
          "execution_count": 41
        }
      ]
    },
    {
      "cell_type": "markdown",
      "source": [
        "use static function"
      ],
      "metadata": {
        "id": "1myZ_fSqBiLq"
      }
    },
    {
      "cell_type": "code",
      "source": [
        "class TestClass(object):\n",
        "    myvar = \"\"\n",
        "    \n",
        "    def __init__(self, myString): \n",
        "        self.myvar = myString\n",
        "    \n",
        "    def say(self, what): # you need to add self as the first argument \n",
        "        return self.myvar + str(what)\n",
        "    \n",
        "    @staticmethod\n",
        "    def sayStatic(what): # or declare the function static \n",
        "        return \"The answer is \" + str(what)\n",
        "\n",
        "a = TestClass(\"The new answer is \")\n",
        "a.say(42)\n",
        "a.sayStatic(42)"
      ],
      "metadata": {
        "colab": {
          "base_uri": "https://localhost:8080/",
          "height": 36
        },
        "id": "AJWXwKDJBku4",
        "outputId": "36e33603-59e8-4b05-e443-927d5332e075"
      },
      "execution_count": null,
      "outputs": [
        {
          "output_type": "execute_result",
          "data": {
            "text/plain": [
              "'The answer is 42'"
            ],
            "application/vnd.google.colaboratory.intrinsic+json": {
              "type": "string"
            }
          },
          "metadata": {},
          "execution_count": 44
        }
      ]
    },
    {
      "cell_type": "markdown",
      "source": [
        "**FUNCTIONAL PYTHON**"
      ],
      "metadata": {
        "id": "Xy58QHC7BtR3"
      }
    },
    {
      "cell_type": "code",
      "source": [
        "def square(num):\n",
        "    return num ** 2\n",
        "\n",
        "# map(function, iterable) applies a given function to every element of a list\n",
        "list(map(square, [1,2,3,4]))\n",
        "\n",
        "list(map(lambda x: x**2, [1,2,3,4])) \n",
        "mydata = list(map(lambda x: x if x>2 else 0, [1,2,3,4])) \n",
        "mydata\n",
        "\n",
        "# reduce(function, iterable ) applies a function with two arguments cumulatively to every element of a list\n",
        "from functools import reduce\n",
        "reduce(lambda x,y: x+y, [1,2,3,4]) \n"
      ],
      "metadata": {
        "colab": {
          "base_uri": "https://localhost:8080/"
        },
        "id": "JwXWDqcRBw6y",
        "outputId": "a56307cd-2636-45cf-95d7-c8caa380d1f0"
      },
      "execution_count": null,
      "outputs": [
        {
          "output_type": "execute_result",
          "data": {
            "text/plain": [
              "10"
            ]
          },
          "metadata": {},
          "execution_count": 49
        }
      ]
    },
    {
      "cell_type": "code",
      "source": [
        "# filter(function, iterable)) extracts every element for which the function returns true\n",
        "list(filter(lambda x: x>2, [1,2,3,4]))"
      ],
      "metadata": {
        "colab": {
          "base_uri": "https://localhost:8080/"
        },
        "id": "9GKw3FzLIxz5",
        "outputId": "e35a1605-b5d2-450d-9635-bcc616bf7ec4"
      },
      "execution_count": null,
      "outputs": [
        {
          "output_type": "execute_result",
          "data": {
            "text/plain": [
              "[3, 4]"
            ]
          },
          "metadata": {},
          "execution_count": 50
        }
      ]
    },
    {
      "cell_type": "code",
      "source": [
        "# zip([iterable,...]) returns tuples of corresponding elements of multiple lists\n",
        "list(zip([1,2,3,4],[5,6,7,8,9]))"
      ],
      "metadata": {
        "colab": {
          "base_uri": "https://localhost:8080/"
        },
        "id": "RA1cLdtOJXLi",
        "outputId": "72a0d65c-5416-44be-9642-4247ae9e2acb"
      },
      "execution_count": null,
      "outputs": [
        {
          "output_type": "execute_result",
          "data": {
            "text/plain": [
              "[(1, 5), (2, 6), (3, 7), (4, 8)]"
            ]
          },
          "metadata": {},
          "execution_count": 51
        }
      ]
    },
    {
      "cell_type": "markdown",
      "source": [
        "list comprehensions can create lists as follows:\n",
        "\n",
        "[statement for var in iterable if condition]  \n",
        "\n",
        "generators do the same, but are lazy: they don't create the list until it is needed:\n",
        "\n",
        "(statement for var in list if condition)"
      ],
      "metadata": {
        "id": "adMp0CwtKBHw"
      }
    },
    {
      "cell_type": "code",
      "source": [
        "a = [2, 3, 4, 5]\n",
        "\n",
        "lc = [ x for x in a if x >= 4 ] # List comprehension. Square brackets\n",
        "lg = ( x for x in a if x >= 4 ) # Generator. Round brackets\n",
        "\n",
        "a.extend([6,7,8,9])\n",
        "\n",
        "for i in lc:\n",
        "    print(\"%i \" % i, end=\"\") # end tells the print function not to end with a newline\n",
        "print(\"\\n\")\n",
        "for i in lg:\n",
        "    print(\"%i \" % i, end=\"\")"
      ],
      "metadata": {
        "colab": {
          "base_uri": "https://localhost:8080/"
        },
        "id": "7RXA8kXuKCkx",
        "outputId": "dad2d016-1214-4c11-8e0b-c8484bfb45ef"
      },
      "execution_count": null,
      "outputs": [
        {
          "output_type": "stream",
          "name": "stdout",
          "text": [
            "4 5 \n",
            "\n",
            "4 5 6 7 8 9 "
          ]
        }
      ]
    },
    {
      "cell_type": "markdown",
      "source": [
        "list comprehensions\n",
        "  {key:value for (key,value) in dict.items() if condition}  "
      ],
      "metadata": {
        "id": "Q5JIqN1SOiiU"
      }
    },
    {
      "cell_type": "code",
      "source": [
        "# Quick dictionary creation\n",
        "\n",
        "numbers = range(10)\n",
        "{n:n**2 for n in numbers if n%2 == 0}\n"
      ],
      "metadata": {
        "id": "KE7kwbFaOm75",
        "outputId": "cd113e3a-300a-4a32-a755-aa60c95122b6",
        "colab": {
          "base_uri": "https://localhost:8080/"
        }
      },
      "execution_count": null,
      "outputs": [
        {
          "output_type": "execute_result",
          "data": {
            "text/plain": [
              "{0: 0, 2: 4, 4: 16, 6: 36, 8: 64}"
            ]
          },
          "metadata": {},
          "execution_count": 53
        }
      ]
    },
    {
      "cell_type": "markdown",
      "source": [
        " **PYTHON FOR SCIENTIFIC COMPUTING** \n",
        "\n"
      ],
      "metadata": {
        "id": "qXwCqUskuwkM"
      }
    },
    {
      "cell_type": "markdown",
      "source": [
        "Python has extentive packages to help with data analysis:\n",
        "\n",
        "*   Numpy: matrices, linear algebra\n",
        "*   scipy: advanced linear algebra and maths, signal processing, stactistics\n",
        "*   pandas: DataFrames, data wraingling and analysis\n",
        "*   malplotblib: Visualizations such as line charts, histograms, scatter plots"
      ],
      "metadata": {
        "id": "s8qxYz4Pvqum"
      }
    },
    {
      "cell_type": "code",
      "source": [
        "# General imports\n",
        "%matplotlib inline\n",
        "import numpy as np\n",
        "import pandas as pd\n",
        "import matplotlib.pyplot as plt"
      ],
      "metadata": {
        "id": "XaNaJs4Ru9M2"
      },
      "execution_count": 1,
      "outputs": []
    },
    {
      "cell_type": "markdown",
      "source": [
        "**NumPy**\n",
        "Numpy is the fundamental package required for high performance scientific computing on python. It provides: \n",
        "\n",
        "\n",
        "*   ndarray: fast and space0efficient n-dimensionla numeric array with vectorized arthimetic operations\n",
        "*   Functions for fast operations on arrays without having to write loops\n",
        "*   Linear algebra, random number generation, Fourier transform\n",
        "*   \n"
      ],
      "metadata": {
        "id": "MabUHYOFxz7w"
      }
    },
    {
      "cell_type": "markdown",
      "source": [
        "**NDARRAY**"
      ],
      "metadata": {
        "id": "xKgkaV0uzVeL"
      }
    },
    {
      "cell_type": "code",
      "source": [
        "# Convert normal Python array to 1-dimensional numpy array\n",
        "np.array((1, 2, 53))"
      ],
      "metadata": {
        "colab": {
          "base_uri": "https://localhost:8080/"
        },
        "id": "lLm2jfDsxik9",
        "outputId": "262c4bf7-ae07-4472-e202-45e6f7f7115a"
      },
      "execution_count": 5,
      "outputs": [
        {
          "output_type": "execute_result",
          "data": {
            "text/plain": [
              "array([ 1,  2, 53])"
            ]
          },
          "metadata": {},
          "execution_count": 5
        }
      ]
    },
    {
      "cell_type": "code",
      "source": [
        "# Convert sequences of sequences of sequences ... to n-dim array\n",
        "np.array([(1.5, 2, 3), (4, 5, 6)])"
      ],
      "metadata": {
        "colab": {
          "base_uri": "https://localhost:8080/"
        },
        "id": "IE0Zue5Izuhy",
        "outputId": "4a033fde-fa3e-42f3-ca1a-0cfbdc01833e"
      },
      "execution_count": 6,
      "outputs": [
        {
          "output_type": "execute_result",
          "data": {
            "text/plain": [
              "array([[1.5, 2. , 3. ],\n",
              "       [4. , 5. , 6. ]])"
            ]
          },
          "metadata": {},
          "execution_count": 6
        }
      ]
    },
    {
      "cell_type": "code",
      "source": [
        "# Define element type at creation time\n",
        "np.array([[1, 2], [3, 4]], dtype=complex)"
      ],
      "metadata": {
        "colab": {
          "base_uri": "https://localhost:8080/"
        },
        "id": "QdckFPFkzxun",
        "outputId": "bff6b6bd-93b0-482a-828c-9c6a6d5519c1"
      },
      "execution_count": 7,
      "outputs": [
        {
          "output_type": "execute_result",
          "data": {
            "text/plain": [
              "array([[1.+0.j, 2.+0.j],\n",
              "       [3.+0.j, 4.+0.j]])"
            ]
          },
          "metadata": {},
          "execution_count": 7
        }
      ]
    },
    {
      "cell_type": "code",
      "source": [
        "my_array = np.array([[1, 0, 3], [0, 1, 2]])\n",
        "my_array.ndim     # number of dimensions (axes), also called the rank\n",
        "my_array.shape    # a matrix with n rows and m columns has shape (n,m)\n",
        "my_array.size     # the total number of elements of the array\n",
        "my_array.dtype    # type of the elements in the array\n",
        "my_array.itemsize # the size in bytes of each element of the array"
      ],
      "metadata": {
        "colab": {
          "base_uri": "https://localhost:8080/"
        },
        "id": "yzDVuDpHzyfj",
        "outputId": "2ef48784-8f64-4a67-eebc-b8ed1d01b270"
      },
      "execution_count": 8,
      "outputs": [
        {
          "output_type": "execute_result",
          "data": {
            "text/plain": [
              "8"
            ]
          },
          "metadata": {},
          "execution_count": 8
        }
      ]
    },
    {
      "cell_type": "markdown",
      "source": [
        "Create an array with placeholder than extending it later"
      ],
      "metadata": {
        "id": "B3xb4So10bJZ"
      }
    },
    {
      "cell_type": "code",
      "source": [
        "np.ones(3) # Default type is float64\n",
        "np.zeros([2, 2]) \n",
        "np.empty([2, 2]) # Fills the array with whatever sits in memory\n",
        "np.random.random((2,3))\n",
        "np.random.randint(5, size=(2, 4))"
      ],
      "metadata": {
        "colab": {
          "base_uri": "https://localhost:8080/"
        },
        "id": "KEev2r340CWt",
        "outputId": "0b7e41af-15df-4659-b3cb-2ea84801caeb"
      },
      "execution_count": 9,
      "outputs": [
        {
          "output_type": "execute_result",
          "data": {
            "text/plain": [
              "array([[3, 3, 0, 2],\n",
              "       [0, 2, 2, 3]])"
            ]
          },
          "metadata": {},
          "execution_count": 9
        }
      ]
    },
    {
      "cell_type": "markdown",
      "source": [
        "Create sequences of numbers"
      ],
      "metadata": {
        "id": "6qyhQk071yk1"
      }
    },
    {
      "cell_type": "code",
      "source": [
        "np.linspace(0, 1, num=6)   # Linearly distributed numbers between 0 and 1\n",
        "np.arange(0, 1, step=0.3)  # Fixed step size\n",
        "np.arange(12).reshape(3,4) # Create and reshape\n",
        "np.eye(4)                  # Identity matrix"
      ],
      "metadata": {
        "colab": {
          "base_uri": "https://localhost:8080/"
        },
        "id": "OQ0qVRdF1x5_",
        "outputId": "9c8eff86-6e83-4d2c-bd93-98bb8b0a2eb9"
      },
      "execution_count": 10,
      "outputs": [
        {
          "output_type": "execute_result",
          "data": {
            "text/plain": [
              "array([[1., 0., 0., 0.],\n",
              "       [0., 1., 0., 0.],\n",
              "       [0., 0., 1., 0.],\n",
              "       [0., 0., 0., 1.]])"
            ]
          },
          "metadata": {},
          "execution_count": 10
        }
      ]
    },
    {
      "cell_type": "code",
      "source": [
        "a = np.array([20, 30, 40, 50])\n",
        "b = np.arange(4)\n",
        "a, b    # Just printing\n",
        "a-b\n",
        "a > 32"
      ],
      "metadata": {
        "colab": {
          "base_uri": "https://localhost:8080/"
        },
        "id": "XmV0hbtM4pn9",
        "outputId": "6b522792-340a-4ae3-ad12-2ccd72547c5c"
      },
      "execution_count": 15,
      "outputs": [
        {
          "output_type": "execute_result",
          "data": {
            "text/plain": [
              "array([False, False,  True,  True])"
            ]
          },
          "metadata": {},
          "execution_count": 15
        }
      ]
    },
    {
      "cell_type": "markdown",
      "source": [
        "The matrix product can be performend using dot()"
      ],
      "metadata": {
        "id": "d0OMoJc25ZWb"
      }
    },
    {
      "cell_type": "code",
      "source": [
        "A, B = np.array([[1,1], [0,1]]), np.array([[2,0], [3,4]]) # assign multiple variables in one line\n",
        "A\n",
        "B\n",
        "#A*B\n",
        "np.dot(A,B)"
      ],
      "metadata": {
        "colab": {
          "base_uri": "https://localhost:8080/"
        },
        "id": "WIiFmhHR5adi",
        "outputId": "b66edd00-6c81-4710-dac2-dbedcd44adc6"
      },
      "execution_count": 25,
      "outputs": [
        {
          "output_type": "execute_result",
          "data": {
            "text/plain": [
              "array([[5, 4],\n",
              "       [3, 4]])"
            ]
          },
          "metadata": {},
          "execution_count": 25
        }
      ]
    }
  ]
}