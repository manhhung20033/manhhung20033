{
  "nbformat": 4,
  "nbformat_minor": 0,
  "metadata": {
    "colab": {
      "provenance": [],
      "name": "tutorial_colab.ipynb",
      "mount_file_id": "https://gist.github.com/manhhung20033/ca16688838c1341d6e82fbf137f4efc1#file-untitled_text-ipynb",
      "authorship_tag": "ABX9TyOm5wwhsmaRC5PXrtW0U9Gm",
      "include_colab_link": true
    },
    "kernelspec": {
      "name": "python3",
      "display_name": "Python 3"
    },
    "language_info": {
      "name": "python"
    },
    "gpuClass": "standard",
    "accelerator": "GPU"
  },
  "cells": [
    {
      "cell_type": "markdown",
      "metadata": {
        "id": "view-in-github",
        "colab_type": "text"
      },
      "source": [
        "<a href=\"https://colab.research.google.com/github/manhhung20033/manhhung20033/blob/main/tutorial_colab.ipynb\" target=\"_parent\"><img src=\"https://colab.research.google.com/assets/colab-badge.svg\" alt=\"Open In Colab\"/></a>"
      ]
    },
    {
      "cell_type": "markdown",
      "source": [
        "Cái này chỉ là sử dụng time out để giới thiệu\n"
      ],
      "metadata": {
        "id": "9o-N4N1CrATi"
      }
    },
    {
      "cell_type": "code",
      "source": [
        "time.sleep(5)\n",
        "print (time.ctime())"
      ],
      "metadata": {
        "colab": {
          "base_uri": "https://localhost:8080/"
        },
        "id": "FSaWO1QuyYAG",
        "outputId": "9bd00271-6bff-4852-9ed3-060a179bbfdf"
      },
      "execution_count": null,
      "outputs": [
        {
          "output_type": "stream",
          "name": "stdout",
          "text": [
            "Wed Dec  7 13:33:08 2022\n"
          ]
        }
      ]
    },
    {
      "cell_type": "markdown",
      "source": [
        "Sử dụng biểu thức tính toán trong colab\n"
      ],
      "metadata": {
        "id": "OOB5jXBLrG7i"
      }
    },
    {
      "cell_type": "markdown",
      "source": [
        "$e^x = \\sum_{i = 0}^\\infty \\frac{1}{i!}x^i$"
      ],
      "metadata": {
        "id": "wlON4NDh_oWy"
      }
    },
    {
      "cell_type": "markdown",
      "source": [
        "Constraints are\n",
        "   - $3x_1 + 6x_2 + x_3 =< 28$\n",
        "   - $7x_1 + 3x_2 + 2x_3 =< 37$\n",
        "   - $4x_1 + 5x_2 + 2x_3 =< 19$\n",
        "   - $x_1,x_2,x_3 >=0 $\n",
        "\n",
        "The trial vector is calculated as follows:\n",
        "- $u_i(t) = x_i(t) + \\beta(\\hat{x}(t) − x_i(t)) + \\beta \\sum_{k = 1}^{n_v}(x_{i1,k}(t) − x_{i2,k}(t))$\n",
        "$f(x_1, x_2) = 20 + e - 20exp(-0.2 \\sqrt {\\frac {1}{n} (x_1^2 + x_2^2)}) - exp (\\frac {1}{n}(cos(2\\pi x_1) + cos(2\\pi x_2))$\n",
        "\n",
        "$x ∈ [-5, 5]$\n",
        ">$A_{m,n} =\n",
        "   \\begin{pmatrix}\n",
        "   a_{1,1} > a_{1,2} > \\cdots > a_{1,n} \\\\\n",
        "   a_{2,1} > a_{2,2} > \\cdots > a_{2,n} \\\\\n",
        "   \\vdots > \\vdots > \\ddots > \\vdots \\\\\n",
        "   a_{m,1} > a_{m,2} > \\cdots > a_{m,n}\n",
        "   \\end{pmatrix}$\n",
        "\n"
      ],
      "metadata": {
        "id": "Y-LfAv_yDclD"
      }
    },
    {
      "cell_type": "markdown",
      "source": [
        "Link đến drive để sử dụng các file. (Link được sử dụng trong hướng dẫn đã bị lỗi vậy nên colab báo lỗi)"
      ],
      "metadata": {
        "id": "eV3-NNQbrOHk"
      }
    },
    {
      "cell_type": "code",
      "source": [
        "!wget http://mlr.cs.umass.edu/ml/machine-learning-databases/adult/adult.data -P \"/content/drive/My Drive/app\""
      ],
      "metadata": {
        "id": "wByYLUJBPo1u",
        "outputId": "d0686caf-0902-4364-e048-5c12f90d4a35",
        "colab": {
          "base_uri": "https://localhost:8080/"
        }
      },
      "execution_count": null,
      "outputs": [
        {
          "output_type": "stream",
          "name": "stdout",
          "text": [
            "--2022-12-07 15:40:14--  http://mlr.cs.umass.edu/ml/machine-learning-databases/adult/adult.data\n",
            "Resolving mlr.cs.umass.edu (mlr.cs.umass.edu)... failed: Name or service not known.\n",
            "wget: unable to resolve host address ‘mlr.cs.umass.edu’\n"
          ]
        }
      ]
    },
    {
      "cell_type": "markdown",
      "source": [
        "Thực thi các file python được tích hợp sẵn."
      ],
      "metadata": {
        "id": "_u_9oGvPrjdw"
      }
    },
    {
      "cell_type": "code",
      "source": [
        "# Run this cell to mount your Google Drive.\n",
        "from google.colab import drive\n",
        "drive.mount('/content/drive')"
      ],
      "metadata": {
        "id": "RTu7O7nId1zb",
        "outputId": "ad7cb83c-1394-44af-f7ca-45a9f8314e0e",
        "colab": {
          "base_uri": "https://localhost:8080/"
        }
      },
      "execution_count": null,
      "outputs": [
        {
          "output_type": "stream",
          "name": "stdout",
          "text": [
            "Drive already mounted at /content/drive; to attempt to forcibly remount, call drive.mount(\"/content/drive\", force_remount=True).\n"
          ]
        }
      ]
    },
    {
      "cell_type": "code",
      "source": [
        "!ls \"/content/drive/My Drive/Colab Notebooks\"\n"
      ],
      "metadata": {
        "id": "Y7Bv9PGQeI72",
        "outputId": "c5d687f2-fdb3-4271-e24d-12abd487f029",
        "colab": {
          "base_uri": "https://localhost:8080/"
        }
      },
      "execution_count": null,
      "outputs": [
        {
          "output_type": "stream",
          "name": "stdout",
          "text": [
            "text.ipynb\n"
          ]
        }
      ]
    },
    {
      "cell_type": "markdown",
      "source": [
        "Sử dụng python để vẽ biểu đồ "
      ],
      "metadata": {
        "id": "cgURMv6NrrZu"
      }
    },
    {
      "cell_type": "code",
      "source": [
        "import numpy as np\n",
        "from matplotlib import pyplot as plt\n",
        "\n",
        "y = np.random.randn(100)\n",
        "x = [x for x in range(len(y))]\n",
        "\n",
        "plt.plot(x, y, '-')\n",
        "plt.fill_between(x, y, 200, where = (y > 195), facecolor='g', alpha=0.6)\n",
        "\n",
        "plt.title(\"Sample Plot\")\n",
        "plt.show()"
      ],
      "metadata": {
        "id": "2F4eYCHugW4Z",
        "outputId": "2ed10a02-6f2c-489a-fb0b-5d572a3e8608",
        "colab": {
          "base_uri": "https://localhost:8080/",
          "height": 281
        }
      },
      "execution_count": null,
      "outputs": [
        {
          "output_type": "display_data",
          "data": {
            "text/plain": [
              "<Figure size 432x288 with 1 Axes>"
            ],
            "image/png": "[encoded data removed]"
          },
          "metadata": {
            "needs_background": "light"
          }
        }
      ]
    },
    {
      "cell_type": "markdown",
      "source": [
        "Mở file python trong drive để sử dụng. (Do đường link được sử dụng trong tutorial bị lỗi nên không tìm thấy file)"
      ],
      "metadata": {
        "id": "8hpHgYSQryIt"
      }
    },
    {
      "cell_type": "code",
      "source": [
        "!python3 \"/content/drive/My Drive/Colab Notebooks/hello.py\""
      ],
      "metadata": {
        "id": "FVHva4VMhDBS",
        "outputId": "9c155c63-2fc0-42fd-d1e1-03605a947adf",
        "colab": {
          "base_uri": "https://localhost:8080/"
        }
      },
      "execution_count": null,
      "outputs": [
        {
          "output_type": "stream",
          "name": "stdout",
          "text": [
            "python3: can't open file '/content/drive/My Drive/Colab Notebooks/hello.py': [Errno 2] No such file or directory\n"
          ]
        }
      ]
    },
    {
      "cell_type": "code",
      "source": [
        "# Run this cell to mount your Google Drive.\n",
        "from google.colab import drive\n",
        "drive.mount('/content/drive')"
      ],
      "metadata": {
        "id": "eoq_PlApgjpp",
        "outputId": "44df6623-6784-4265-965e-e6931784fd0d",
        "colab": {
          "base_uri": "https://localhost:8080/"
        }
      },
      "execution_count": null,
      "outputs": [
        {
          "output_type": "stream",
          "name": "stdout",
          "text": [
            "Drive already mounted at /content/drive; to attempt to forcibly remount, call drive.mount(\"/content/drive\", force_remount=True).\n"
          ]
        }
      ]
    },
    {
      "cell_type": "markdown",
      "source": [
        "Sủ dụng python để xuất ra màn hình"
      ],
      "metadata": {
        "id": "q4kxDp4BsAAq"
      }
    },
    {
      "cell_type": "code",
      "source": [
        "print(\"Welcome to TutorialsPoint!\")"
      ],
      "metadata": {
        "id": "wDER7nMgg-2u",
        "outputId": "9929449c-83f5-4d26-b0fb-bb75a8e4d892",
        "colab": {
          "base_uri": "https://localhost:8080/"
        }
      },
      "execution_count": null,
      "outputs": [
        {
          "output_type": "stream",
          "name": "stdout",
          "text": [
            "Welcome to TutorialsPoint!\n"
          ]
        }
      ]
    },
    {
      "cell_type": "markdown",
      "source": [
        "Sử dụng code editing help để dùng các function documentation."
      ],
      "metadata": {
        "id": "dy5VuvCmsyu-"
      }
    },
    {
      "cell_type": "code",
      "source": [
        "import torch"
      ],
      "metadata": {
        "id": "NYWt-brng8Xj"
      },
      "execution_count": null,
      "outputs": []
    },
    {
      "cell_type": "markdown",
      "source": [
        "line magics được sử dụng với dấu % ở trước keyword"
      ],
      "metadata": {
        "id": "DI-CfV1_s1pR"
      }
    },
    {
      "cell_type": "markdown",
      "source": [
        "cell magics được sử dụng với dấu %% ở trước keyword"
      ],
      "metadata": {
        "id": "qgf0ucOxtEh9"
      }
    },
    {
      "cell_type": "code",
      "source": [
        "%%html\n",
        "<marquee style='width: 50%; color: Green;'>Chào mừng đến với không gian học tập của mạnh hùng!</marquee>"
      ],
      "metadata": {
        "id": "k9NIXEFVh3Z3",
        "outputId": "1bce0cf6-0d55-4095-c2c7-e550c7df7262",
        "colab": {
          "base_uri": "https://localhost:8080/",
          "height": 39
        }
      },
      "execution_count": null,
      "outputs": [
        {
          "output_type": "display_data",
          "data": {
            "text/plain": [
              "<IPython.core.display.HTML object>"
            ],
            "text/html": [
              "<marquee style='width: 50%; color: Green;'>Chào mừng đến với không gian học tập của mạnh hùng!</marquee>\n"
            ]
          },
          "metadata": {}
        }
      ]
    },
    {
      "cell_type": "code",
      "source": [
        "%%html\n",
        "<svg xmlns= \"https://www.w3.org/2000/svg\" viewBox=\"0 0 600 400\" width=\"400\" height=\"400\">\n",
        "   <rect x=\"10\" y=\"00\" width=\"300\" height=\"100\" rx=\"0\" style=\"fill:red; stroke:black; fill-opacity:1.0\" />\n",
        "   <rect x=\"10\" y=\"100\" width=\"300\" height=\"100\" rx=\"0\" style=\"fill:white; stroke:black; fill-opacity:1.0;\" />\n",
        "   <rect x=\"10\" y=\"200\" width=\"300\" height=\"100\" rx=\"0\" style=\"fill:black; stroke:black; fill-opacity:1.0;\" />\n",
        "</svg>"
      ],
      "metadata": {
        "id": "pP-Gx8URjjQT",
        "outputId": "1d8fc6c7-15fa-4e5e-8e0b-6790da096c3b",
        "colab": {
          "base_uri": "https://localhost:8080/",
          "height": 422
        }
      },
      "execution_count": null,
      "outputs": [
        {
          "output_type": "display_data",
          "data": {
            "text/plain": [
              "<IPython.core.display.HTML object>"
            ],
            "text/html": [
              "<svg xmlns= \"https://www.w3.org/2000/svg\" viewBox=\"0 0 600 400\" width=\"400\" height=\"400\">\n",
              "   <rect x=\"10\" y=\"00\" width=\"300\" height=\"100\" rx=\"0\" style=\"fill:red; stroke:black; fill-opacity:1.0\" />\n",
              "   <rect x=\"10\" y=\"100\" width=\"300\" height=\"100\" rx=\"0\" style=\"fill:white; stroke:black; fill-opacity:1.0;\" />\n",
              "   <rect x=\"10\" y=\"200\" width=\"300\" height=\"100\" rx=\"0\" style=\"fill:black; stroke:black; fill-opacity:1.0;\" />\n",
              "</svg>\n"
            ]
          },
          "metadata": {}
        }
      ]
    },
    {
      "cell_type": "markdown",
      "source": [
        "Magics list"
      ],
      "metadata": {
        "id": "0foDeqoZtON3"
      }
    },
    {
      "cell_type": "code",
      "source": [
        "%lsmagic\n"
      ],
      "metadata": {
        "id": "87SsRLpdjy6M",
        "outputId": "8d412fca-6d87-4c29-da59-91d297bf0b29",
        "colab": {
          "base_uri": "https://localhost:8080/",
          "height": 225
        }
      },
      "execution_count": null,
      "outputs": [
        {
          "output_type": "execute_result",
          "data": {
            "text/plain": [
              "Available line magics:\n",
              "%alias  %alias_magic  %autoawait  %autocall  %automagic  %autosave  %bookmark  %cat  %cd  %clear  %colors  %conda  %config  %connect_info  %cp  %debug  %dhist  %dirs  %doctest_mode  %ed  %edit  %env  %gui  %hist  %history  %killbgscripts  %ldir  %less  %lf  %lk  %ll  %load  %load_ext  %loadpy  %logoff  %logon  %logstart  %logstate  %logstop  %ls  %lsmagic  %lx  %macro  %magic  %man  %matplotlib  %mkdir  %more  %mv  %notebook  %page  %pastebin  %pdb  %pdef  %pdoc  %pfile  %pinfo  %pinfo2  %pip  %popd  %pprint  %precision  %prun  %psearch  %psource  %pushd  %pwd  %pycat  %pylab  %qtconsole  %quickref  %recall  %rehashx  %reload_ext  %rep  %rerun  %reset  %reset_selective  %rm  %rmdir  %run  %save  %sc  %set_env  %shell  %store  %sx  %system  %tb  %tensorflow_version  %time  %timeit  %unalias  %unload_ext  %who  %who_ls  %whos  %xdel  %xmode\n",
              "\n",
              "Available cell magics:\n",
              "%%!  %%HTML  %%SVG  %%bash  %%bigquery  %%capture  %%debug  %%file  %%html  %%javascript  %%js  %%latex  %%markdown  %%perl  %%prun  %%pypy  %%python  %%python2  %%python3  %%ruby  %%script  %%sh  %%shell  %%svg  %%sx  %%system  %%time  %%timeit  %%writefile\n",
              "\n",
              "Automagic is ON, % prefix IS NOT needed for line magics."
            ],
            "application/json": {
              "line": {
                "automagic": "AutoMagics",
                "autocall": "AutoMagics",
                "alias_magic": "BasicMagics",
                "lsmagic": "BasicMagics",
                "magic": "BasicMagics",
                "page": "BasicMagics",
                "pprint": "BasicMagics",
                "colors": "BasicMagics",
                "xmode": "BasicMagics",
                "quickref": "BasicMagics",
                "doctest_mode": "BasicMagics",
                "gui": "BasicMagics",
                "precision": "BasicMagics",
                "notebook": "BasicMagics",
                "save": "CodeMagics",
                "pastebin": "CodeMagics",
                "loadpy": "CodeMagics",
                "load": "CodeMagics",
                "edit": "KernelMagics",
                "config": "ConfigMagics",
                "prun": "ExecutionMagics",
                "pdb": "ExecutionMagics",
                "debug": "ExecutionMagics",
                "tb": "ExecutionMagics",
                "run": "ExecutionMagics",
                "timeit": "ExecutionMagics",
                "time": "ExecutionMagics",
                "macro": "ExecutionMagics",
                "load_ext": "ExtensionMagics",
                "unload_ext": "ExtensionMagics",
                "reload_ext": "ExtensionMagics",
                "history": "HistoryMagics",
                "recall": "HistoryMagics",
                "rerun": "HistoryMagics",
                "logstart": "LoggingMagics",
                "logstop": "LoggingMagics",
                "logoff": "LoggingMagics",
                "logon": "LoggingMagics",
                "logstate": "LoggingMagics",
                "pinfo": "NamespaceMagics",
                "pinfo2": "NamespaceMagics",
                "pdef": "NamespaceMagics",
                "pdoc": "NamespaceMagics",
                "psource": "NamespaceMagics",
                "pfile": "NamespaceMagics",
                "psearch": "NamespaceMagics",
                "who_ls": "NamespaceMagics",
                "who": "NamespaceMagics",
                "whos": "NamespaceMagics",
                "reset": "NamespaceMagics",
                "reset_selective": "NamespaceMagics",
                "xdel": "NamespaceMagics",
                "alias": "OSMagics",
                "unalias": "OSMagics",
                "rehashx": "OSMagics",
                "pwd": "OSMagics",
                "cd": "OSMagics",
                "env": "OSMagics",
                "set_env": "OSMagics",
                "pushd": "OSMagics",
                "popd": "OSMagics",
                "dirs": "OSMagics",
                "dhist": "OSMagics",
                "sc": "OSMagics",
                "sx": "OSMagics",
                "system": "OSMagics",
                "bookmark": "OSMagics",
                "pycat": "OSMagics",
                "pip": "Other",
                "conda": "PackagingMagics",
                "matplotlib": "PylabMagics",
                "pylab": "PylabMagics",
                "killbgscripts": "ScriptMagics",
                "autoawait": "AsyncMagics",
                "ed": "Other",
                "hist": "Other",
                "rep": "Other",
                "clear": "KernelMagics",
                "less": "KernelMagics",
                "more": "KernelMagics",
                "man": "KernelMagics",
                "connect_info": "KernelMagics",
                "qtconsole": "KernelMagics",
                "autosave": "KernelMagics",
                "mkdir": "Other",
                "rmdir": "Other",
                "mv": "Other",
                "rm": "Other",
                "cp": "Other",
                "cat": "Other",
                "ls": "Other",
                "ll": "Other",
                "lf": "Other",
                "lk": "Other",
                "ldir": "Other",
                "lx": "Other",
                "store": "StoreMagics",
                "shell": "Other",
                "tensorflow_version": "Other"
              },
              "cell": {
                "js": "DisplayMagics",
                "javascript": "DisplayMagics",
                "latex": "DisplayMagics",
                "svg": "DisplayMagics",
                "html": "DisplayMagics",
                "markdown": "DisplayMagics",
                "prun": "ExecutionMagics",
                "debug": "ExecutionMagics",
                "timeit": "ExecutionMagics",
                "time": "ExecutionMagics",
                "capture": "ExecutionMagics",
                "sx": "OSMagics",
                "system": "OSMagics",
                "!": "OSMagics",
                "writefile": "OSMagics",
                "script": "ScriptMagics",
                "sh": "Other",
                "bash": "Other",
                "perl": "Other",
                "ruby": "Other",
                "python": "Other",
                "python2": "Other",
                "python3": "Other",
                "pypy": "Other",
                "SVG": "Other",
                "HTML": "Other",
                "file": "Other",
                "bigquery": "Other",
                "shell": "Other"
              }
            }
          },
          "metadata": {},
          "execution_count": 30
        }
      ]
    },
    {
      "cell_type": "markdown",
      "source": [
        " Định nghĩa lại thời gian nghỉ bằng 0. Vậy thời gian giữa 2 lần sẽ cách nhau 0 giây"
      ],
      "metadata": {
        "id": "lpyNqB1YtRQu"
      }
    },
    {
      "cell_type": "code",
      "source": [
        "#@title Default title text\n",
        "sleeptime = 0 #@param{type : \"integer\"} "
      ],
      "metadata": {
        "id": "J7VJ1ANNtYZf"
      },
      "execution_count": null,
      "outputs": []
    },
    {
      "cell_type": "code",
      "source": [
        "import time\n",
        "print(time.ctime())\n",
        "time.sleep(sleeptime)\n",
        "print (time.ctime())"
      ],
      "metadata": {
        "id": "ZyOFJnWWmSpt",
        "outputId": "a6fb5310-751a-4eaa-bb6a-09fd5ef91775",
        "colab": {
          "base_uri": "https://localhost:8080/"
        }
      },
      "execution_count": null,
      "outputs": [
        {
          "output_type": "stream",
          "name": "stdout",
          "text": [
            "Wed Dec  7 17:19:47 2022\n",
            "Wed Dec  7 17:19:47 2022\n"
          ]
        }
      ]
    },
    {
      "cell_type": "markdown",
      "source": [
        "Khi đặt thời gian nghỉ bằng 10 thì giữa 2 lần sẽ cách nhau 10 giây"
      ],
      "metadata": {
        "id": "BMW3DE-Vth3O"
      }
    },
    {
      "cell_type": "code",
      "source": [
        "#@title Default title text\n",
        "sleeptime = 10 #@param{type : \"integer\"} "
      ],
      "metadata": {
        "id": "5V9pPy5HlKwv"
      },
      "execution_count": null,
      "outputs": []
    },
    {
      "cell_type": "code",
      "source": [
        "import time\n",
        "print(time.ctime())\n",
        "time.sleep(sleeptime)\n",
        "print (time.ctime())"
      ],
      "metadata": {
        "id": "xrFTBN2fkYI-",
        "outputId": "95820b44-31f7-40b7-d0d4-743f3ea68acc",
        "colab": {
          "base_uri": "https://localhost:8080/"
        }
      },
      "execution_count": null,
      "outputs": [
        {
          "output_type": "stream",
          "name": "stdout",
          "text": [
            "Wed Dec  7 17:20:36 2022\n",
            "Wed Dec  7 17:20:46 2022\n"
          ]
        }
      ]
    },
    {
      "cell_type": "markdown",
      "source": [
        "Sử dụng kiểu dữ liệu trong python\n"
      ],
      "metadata": {
        "id": "HOI9sHDstqQM"
      }
    },
    {
      "cell_type": "code",
      "source": [
        "name = 'Tutorialspoint' #@param {type:\"string\"}\n",
        "print(name)"
      ],
      "metadata": {
        "id": "CzruQ98_m0Lm",
        "outputId": "79d80a0a-2694-4a44-8345-b18bf4c2b873",
        "colab": {
          "base_uri": "https://localhost:8080/"
        }
      },
      "execution_count": null,
      "outputs": [
        {
          "output_type": "stream",
          "name": "stdout",
          "text": [
            "Tutorialspoint\n"
          ]
        }
      ]
    },
    {
      "cell_type": "code",
      "source": [
        "color = 'red' #@param [\"red\", \"green\", \"blue\"]\n",
        "print(color)"
      ],
      "metadata": {
        "id": "ZM0tW8eOm41W",
        "outputId": "b5c1de13-6144-4df3-fa34-d28934b0928c",
        "colab": {
          "base_uri": "https://localhost:8080/"
        }
      },
      "execution_count": null,
      "outputs": [
        {
          "output_type": "stream",
          "name": "stdout",
          "text": [
            "red\n"
          ]
        }
      ]
    },
    {
      "cell_type": "code",
      "source": [
        "#@title Date fields\n",
        "date_input = '2003-30-04' #@param {type:\"date\"}\n",
        "print(date_input)"
      ],
      "metadata": {
        "id": "pORiWH9om-vH",
        "outputId": "39b4ea35-4d5c-40d2-bcc0-d414275f46b9",
        "colab": {
          "base_uri": "https://localhost:8080/"
        }
      },
      "execution_count": null,
      "outputs": [
        {
          "output_type": "stream",
          "name": "stdout",
          "text": [
            "2003-30-04\n"
          ]
        }
      ]
    },
    {
      "cell_type": "markdown",
      "source": [
        "Cài đặt 1 số thư viện để sử dụng"
      ],
      "metadata": {
        "id": "zCMM0FjJtwAV"
      }
    },
    {
      "cell_type": "markdown",
      "source": [
        "Pytorch là thư viện tensor được tối ưu hóa và được kích hoạt bởi GPU."
      ],
      "metadata": {
        "id": "_91pzp3Auhon"
      }
    },
    {
      "cell_type": "code",
      "source": [
        "!pip3 install torch torchvision"
      ],
      "metadata": {
        "id": "3x6-PoVAqlh2",
        "outputId": "9e3afca4-5ddc-41ef-9eb6-03a847936f52",
        "colab": {
          "base_uri": "https://localhost:8080/"
        }
      },
      "execution_count": null,
      "outputs": [
        {
          "output_type": "stream",
          "name": "stdout",
          "text": [
            "Looking in indexes: https://pypi.org/simple, https://us-python.pkg.dev/colab-wheels/public/simple/\n",
            "Requirement already satisfied: torch in /usr/local/lib/python3.8/dist-packages (1.12.1+cu113)\n",
            "Requirement already satisfied: torchvision in /usr/local/lib/python3.8/dist-packages (0.13.1+cu113)\n",
            "Requirement already satisfied: typing-extensions in /usr/local/lib/python3.8/dist-packages (from torch) (4.1.1)\n",
            "Requirement already satisfied: requests in /usr/local/lib/python3.8/dist-packages (from torchvision) (2.23.0)\n",
            "Requirement already satisfied: pillow!=8.3.*,>=5.3.0 in /usr/local/lib/python3.8/dist-packages (from torchvision) (7.1.2)\n",
            "Requirement already satisfied: numpy in /usr/local/lib/python3.8/dist-packages (from torchvision) (1.21.6)\n",
            "Requirement already satisfied: idna<3,>=2.5 in /usr/local/lib/python3.8/dist-packages (from requests->torchvision) (2.10)\n",
            "Requirement already satisfied: certifi>=2017.4.17 in /usr/local/lib/python3.8/dist-packages (from requests->torchvision) (2022.9.24)\n",
            "Requirement already satisfied: urllib3!=1.25.0,!=1.25.1,<1.26,>=1.21.1 in /usr/local/lib/python3.8/dist-packages (from requests->torchvision) (1.24.3)\n",
            "Requirement already satisfied: chardet<4,>=3.0.2 in /usr/local/lib/python3.8/dist-packages (from requests->torchvision) (3.0.4)\n"
          ]
        }
      ]
    },
    {
      "cell_type": "markdown",
      "source": [
        "Keras cho phép tạo nguyên mẫu dễ dàng và nhanh chsong cho các ứng dụng mạng"
      ],
      "metadata": {
        "id": "qAl7ZTu3u4nj"
      }
    },
    {
      "cell_type": "code",
      "source": [
        "!pip install -q keras"
      ],
      "metadata": {
        "id": "LMxkClZ0qpFy"
      },
      "execution_count": null,
      "outputs": []
    },
    {
      "cell_type": "markdown",
      "source": [
        "Apache MxNet là một thư viện linh hoạt và hiệu quả cho deep learning."
      ],
      "metadata": {
        "id": "x3nx_IJKvA8Z"
      }
    },
    {
      "cell_type": "code",
      "source": [
        "!apt install libnvrtc8.0\n",
        "!pip install mxnet-cu80"
      ],
      "metadata": {
        "id": "2bAEsJNdq4LX",
        "outputId": "454367bb-04dd-4ce1-b975-f3fecad4ad97",
        "colab": {
          "base_uri": "https://localhost:8080/"
        }
      },
      "execution_count": null,
      "outputs": [
        {
          "output_type": "stream",
          "name": "stdout",
          "text": [
            "Reading package lists... Done\n",
            "Building dependency tree       \n",
            "Reading state information... Done\n",
            "E: Unable to locate package libnvrtc8.0\n",
            "E: Couldn't find any package by glob 'libnvrtc8.0'\n",
            "E: Couldn't find any package by regex 'libnvrtc8.0'\n",
            "Looking in indexes: https://pypi.org/simple, https://us-python.pkg.dev/colab-wheels/public/simple/\n",
            "Collecting mxnet-cu80\n",
            "  Downloading mxnet_cu80-1.5.0-py2.py3-none-manylinux1_x86_64.whl (372.1 MB)\n",
            "\u001b[K     |████████████████████████████████| 372.1 MB 36 kB/s \n",
            "\u001b[?25hRequirement already satisfied: numpy<2.0.0,>1.16.0 in /usr/local/lib/python3.8/dist-packages (from mxnet-cu80) (1.21.6)\n",
            "Requirement already satisfied: requests<3,>=2.20.0 in /usr/local/lib/python3.8/dist-packages (from mxnet-cu80) (2.23.0)\n",
            "Collecting graphviz<0.9.0,>=0.8.1\n",
            "  Downloading graphviz-0.8.4-py2.py3-none-any.whl (16 kB)\n",
            "Requirement already satisfied: certifi>=2017.4.17 in /usr/local/lib/python3.8/dist-packages (from requests<3,>=2.20.0->mxnet-cu80) (2022.9.24)\n",
            "Requirement already satisfied: chardet<4,>=3.0.2 in /usr/local/lib/python3.8/dist-packages (from requests<3,>=2.20.0->mxnet-cu80) (3.0.4)\n",
            "Requirement already satisfied: idna<3,>=2.5 in /usr/local/lib/python3.8/dist-packages (from requests<3,>=2.20.0->mxnet-cu80) (2.10)\n",
            "Requirement already satisfied: urllib3!=1.25.0,!=1.25.1,<1.26,>=1.21.1 in /usr/local/lib/python3.8/dist-packages (from requests<3,>=2.20.0->mxnet-cu80) (1.24.3)\n",
            "Installing collected packages: graphviz, mxnet-cu80\n",
            "  Attempting uninstall: graphviz\n",
            "    Found existing installation: graphviz 0.10.1\n",
            "    Uninstalling graphviz-0.10.1:\n",
            "      Successfully uninstalled graphviz-0.10.1\n",
            "Successfully installed graphviz-0.8.4 mxnet-cu80-1.5.0\n"
          ]
        }
      ]
    },
    {
      "cell_type": "code",
      "source": [
        "!apt-get -qq install -y libsm6 libxext6 && pip install -q -U opencv-python"
      ],
      "metadata": {
        "id": "K4jiTs4dt4GE"
      },
      "execution_count": null,
      "outputs": []
    },
    {
      "cell_type": "code",
      "source": [
        "!pip install -q xgboost==0.4a30"
      ],
      "metadata": {
        "id": "BVQT__Mtt-Dl",
        "outputId": "82ddc507-b9f5-45d3-ffca-3b866a20d513",
        "colab": {
          "base_uri": "https://localhost:8080/"
        }
      },
      "execution_count": null,
      "outputs": [
        {
          "output_type": "stream",
          "name": "stdout",
          "text": [
            "\u001b[?25l\r\u001b[K     |▍                               | 10 kB 22.1 MB/s eta 0:00:01\r\u001b[K     |▉                               | 20 kB 4.4 MB/s eta 0:00:01\r\u001b[K     |█▎                              | 30 kB 6.2 MB/s eta 0:00:01\r\u001b[K     |█▊                              | 40 kB 4.5 MB/s eta 0:00:01\r\u001b[K     |██▏                             | 51 kB 4.4 MB/s eta 0:00:01\r\u001b[K     |██▋                             | 61 kB 5.1 MB/s eta 0:00:01\r\u001b[K     |███                             | 71 kB 5.2 MB/s eta 0:00:01\r\u001b[K     |███▌                            | 81 kB 5.8 MB/s eta 0:00:01\r\u001b[K     |████                            | 92 kB 5.6 MB/s eta 0:00:01\r\u001b[K     |████▍                           | 102 kB 5.3 MB/s eta 0:00:01\r\u001b[K     |████▉                           | 112 kB 5.3 MB/s eta 0:00:01\r\u001b[K     |█████▏                          | 122 kB 5.3 MB/s eta 0:00:01\r\u001b[K     |█████▋                          | 133 kB 5.3 MB/s eta 0:00:01\r\u001b[K     |██████                          | 143 kB 5.3 MB/s eta 0:00:01\r\u001b[K     |██████▌                         | 153 kB 5.3 MB/s eta 0:00:01\r\u001b[K     |███████                         | 163 kB 5.3 MB/s eta 0:00:01\r\u001b[K     |███████▍                        | 174 kB 5.3 MB/s eta 0:00:01\r\u001b[K     |███████▉                        | 184 kB 5.3 MB/s eta 0:00:01\r\u001b[K     |████████▎                       | 194 kB 5.3 MB/s eta 0:00:01\r\u001b[K     |████████▊                       | 204 kB 5.3 MB/s eta 0:00:01\r\u001b[K     |█████████▏                      | 215 kB 5.3 MB/s eta 0:00:01\r\u001b[K     |█████████▋                      | 225 kB 5.3 MB/s eta 0:00:01\r\u001b[K     |██████████                      | 235 kB 5.3 MB/s eta 0:00:01\r\u001b[K     |██████████▍                     | 245 kB 5.3 MB/s eta 0:00:01\r\u001b[K     |██████████▉                     | 256 kB 5.3 MB/s eta 0:00:01\r\u001b[K     |███████████▎                    | 266 kB 5.3 MB/s eta 0:00:01\r\u001b[K     |███████████▊                    | 276 kB 5.3 MB/s eta 0:00:01\r\u001b[K     |████████████▏                   | 286 kB 5.3 MB/s eta 0:00:01\r\u001b[K     |████████████▋                   | 296 kB 5.3 MB/s eta 0:00:01\r\u001b[K     |█████████████                   | 307 kB 5.3 MB/s eta 0:00:01\r\u001b[K     |█████████████▌                  | 317 kB 5.3 MB/s eta 0:00:01\r\u001b[K     |██████████████                  | 327 kB 5.3 MB/s eta 0:00:01\r\u001b[K     |██████████████▍                 | 337 kB 5.3 MB/s eta 0:00:01\r\u001b[K     |██████████████▉                 | 348 kB 5.3 MB/s eta 0:00:01\r\u001b[K     |███████████████▏                | 358 kB 5.3 MB/s eta 0:00:01\r\u001b[K     |███████████████▋                | 368 kB 5.3 MB/s eta 0:00:01\r\u001b[K     |████████████████                | 378 kB 5.3 MB/s eta 0:00:01\r\u001b[K     |████████████████▌               | 389 kB 5.3 MB/s eta 0:00:01\r\u001b[K     |█████████████████               | 399 kB 5.3 MB/s eta 0:00:01\r\u001b[K     |█████████████████▍              | 409 kB 5.3 MB/s eta 0:00:01\r\u001b[K     |█████████████████▉              | 419 kB 5.3 MB/s eta 0:00:01\r\u001b[K     |██████████████████▎             | 430 kB 5.3 MB/s eta 0:00:01\r\u001b[K     |██████████████████▊             | 440 kB 5.3 MB/s eta 0:00:01\r\u001b[K     |███████████████████▏            | 450 kB 5.3 MB/s eta 0:00:01\r\u001b[K     |███████████████████▋            | 460 kB 5.3 MB/s eta 0:00:01\r\u001b[K     |████████████████████            | 471 kB 5.3 MB/s eta 0:00:01\r\u001b[K     |████████████████████▍           | 481 kB 5.3 MB/s eta 0:00:01\r\u001b[K     |████████████████████▉           | 491 kB 5.3 MB/s eta 0:00:01\r\u001b[K     |█████████████████████▎          | 501 kB 5.3 MB/s eta 0:00:01\r\u001b[K     |█████████████████████▊          | 512 kB 5.3 MB/s eta 0:00:01\r\u001b[K     |██████████████████████▏         | 522 kB 5.3 MB/s eta 0:00:01\r\u001b[K     |██████████████████████▋         | 532 kB 5.3 MB/s eta 0:00:01\r\u001b[K     |███████████████████████         | 542 kB 5.3 MB/s eta 0:00:01\r\u001b[K     |███████████████████████▌        | 552 kB 5.3 MB/s eta 0:00:01\r\u001b[K     |████████████████████████        | 563 kB 5.3 MB/s eta 0:00:01\r\u001b[K     |████████████████████████▍       | 573 kB 5.3 MB/s eta 0:00:01\r\u001b[K     |████████████████████████▉       | 583 kB 5.3 MB/s eta 0:00:01\r\u001b[K     |█████████████████████████▏      | 593 kB 5.3 MB/s eta 0:00:01\r\u001b[K     |█████████████████████████▋      | 604 kB 5.3 MB/s eta 0:00:01\r\u001b[K     |██████████████████████████      | 614 kB 5.3 MB/s eta 0:00:01\r\u001b[K     |██████████████████████████▌     | 624 kB 5.3 MB/s eta 0:00:01\r\u001b[K     |███████████████████████████     | 634 kB 5.3 MB/s eta 0:00:01\r\u001b[K     |███████████████████████████▍    | 645 kB 5.3 MB/s eta 0:00:01\r\u001b[K     |███████████████████████████▉    | 655 kB 5.3 MB/s eta 0:00:01\r\u001b[K     |████████████████████████████▎   | 665 kB 5.3 MB/s eta 0:00:01\r\u001b[K     |████████████████████████████▊   | 675 kB 5.3 MB/s eta 0:00:01\r\u001b[K     |█████████████████████████████▏  | 686 kB 5.3 MB/s eta 0:00:01\r\u001b[K     |█████████████████████████████▋  | 696 kB 5.3 MB/s eta 0:00:01\r\u001b[K     |██████████████████████████████  | 706 kB 5.3 MB/s eta 0:00:01\r\u001b[K     |██████████████████████████████▍ | 716 kB 5.3 MB/s eta 0:00:01\r\u001b[K     |██████████████████████████████▉ | 727 kB 5.3 MB/s eta 0:00:01\r\u001b[K     |███████████████████████████████▎| 737 kB 5.3 MB/s eta 0:00:01\r\u001b[K     |███████████████████████████████▊| 747 kB 5.3 MB/s eta 0:00:01\r\u001b[K     |████████████████████████████████| 753 kB 5.3 MB/s \n",
            "\u001b[?25h  Building wheel for xgboost (setup.py) ... \u001b[?25l\u001b[?25hdone\n"
          ]
        }
      ]
    },
    {
      "cell_type": "code",
      "source": [
        "!apt-get -qq install -y graphviz && pip install -q pydot"
      ],
      "metadata": {
        "id": "0WX6lZQ6uebj"
      },
      "execution_count": null,
      "outputs": []
    },
    {
      "cell_type": "markdown",
      "source": [
        "Sử dụng GPU. Ví dụ dưới đây không có file thực thi trong my drive"
      ],
      "metadata": {
        "id": "PlaVSj1svnc5"
      }
    },
    {
      "cell_type": "code",
      "source": [
        "!python3 \"/content/drive/My Drive/app/mnist_cnn.py\"\n"
      ],
      "metadata": {
        "id": "9thHLLAkvlyq",
        "outputId": "f6bc0ae5-9486-47d9-dd7c-561a22812d8f",
        "colab": {
          "base_uri": "https://localhost:8080/"
        }
      },
      "execution_count": null,
      "outputs": [
        {
          "output_type": "stream",
          "name": "stdout",
          "text": [
            "python3: can't open file '/content/drive/My Drive/app/mnist_cnn.py': [Errno 2] No such file or directory\n"
          ]
        }
      ]
    },
    {
      "cell_type": "markdown",
      "source": [
        "Testing for GPU"
      ],
      "metadata": {
        "id": "jco0Zj-gv5zi"
      }
    },
    {
      "cell_type": "code",
      "source": [
        "import tensorflow as tf\n",
        "tf.test.gpu_device_name()"
      ],
      "metadata": {
        "id": "lQmwbx5vvzWJ",
        "outputId": "2437d804-259c-4e51-f8fe-2045009840aa",
        "colab": {
          "base_uri": "https://localhost:8080/",
          "height": 36
        }
      },
      "execution_count": null,
      "outputs": [
        {
          "output_type": "execute_result",
          "data": {
            "text/plain": [
              "'/device:GPU:0'"
            ],
            "application/vnd.google.colaboratory.intrinsic+json": {
              "type": "string"
            }
          },
          "metadata": {},
          "execution_count": 2
        }
      ]
    },
    {
      "cell_type": "markdown",
      "source": [
        "Liệt kê các thiết bị"
      ],
      "metadata": {
        "id": "xCMrNWo8wAtG"
      }
    },
    {
      "cell_type": "code",
      "source": [
        "from tensorflow.python.client import device_lib\n",
        "device_lib.list_local_devices()"
      ],
      "metadata": {
        "id": "2h-d7KgYv79X",
        "outputId": "6871e5b3-e0af-4c61-f5c1-14a17cf8fc31",
        "colab": {
          "base_uri": "https://localhost:8080/"
        }
      },
      "execution_count": null,
      "outputs": [
        {
          "output_type": "execute_result",
          "data": {
            "text/plain": [
              "[name: \"/device:CPU:0\"\n",
              " device_type: \"CPU\"\n",
              " memory_limit: 268435456\n",
              " locality {\n",
              " }\n",
              " incarnation: 3897960983255946921\n",
              " xla_global_id: -1, name: \"/device:GPU:0\"\n",
              " device_type: \"GPU\"\n",
              " memory_limit: 14415560704\n",
              " locality {\n",
              "   bus_id: 1\n",
              "   links {\n",
              "   }\n",
              " }\n",
              " incarnation: 9388840734719324309\n",
              " physical_device_desc: \"device: 0, name: Tesla T4, pci bus id: 0000:00:04.0, compute capability: 7.5\"\n",
              " xla_global_id: 416903419]"
            ]
          },
          "metadata": {},
          "execution_count": 3
        }
      ]
    },
    {
      "cell_type": "markdown",
      "source": [
        "Checking RAM"
      ],
      "metadata": {
        "id": "sErGa8I1wHGX"
      }
    },
    {
      "cell_type": "code",
      "source": [
        "!cat /proc/meminfo"
      ],
      "metadata": {
        "id": "tzB8PyELwEnO",
        "outputId": "b6877f5c-6dea-4e4b-b987-c0369abf8b04",
        "colab": {
          "base_uri": "https://localhost:8080/"
        }
      },
      "execution_count": null,
      "outputs": [
        {
          "output_type": "stream",
          "name": "stdout",
          "text": [
            "MemTotal:       13297228 kB\n",
            "MemFree:         7738244 kB\n",
            "MemAvailable:   11403308 kB\n",
            "Buffers:          338824 kB\n",
            "Cached:          3237592 kB\n",
            "SwapCached:            0 kB\n",
            "Active:           564340 kB\n",
            "Inactive:        4615884 kB\n",
            "Active(anon):        936 kB\n",
            "Inactive(anon):  1327380 kB\n",
            "Active(file):     563404 kB\n",
            "Inactive(file):  3288504 kB\n",
            "Unevictable:           0 kB\n",
            "Mlocked:               0 kB\n",
            "SwapTotal:             0 kB\n",
            "SwapFree:              0 kB\n",
            "Dirty:              1380 kB\n",
            "Writeback:             0 kB\n",
            "AnonPages:       1603784 kB\n",
            "Mapped:           700488 kB\n",
            "Shmem:             11432 kB\n",
            "KReclaimable:     109212 kB\n",
            "Slab:             151884 kB\n",
            "SReclaimable:     109212 kB\n",
            "SUnreclaim:        42672 kB\n",
            "KernelStack:        5792 kB\n",
            "PageTables:        24916 kB\n",
            "NFS_Unstable:          0 kB\n",
            "Bounce:                0 kB\n",
            "WritebackTmp:          0 kB\n",
            "CommitLimit:     6648612 kB\n",
            "Committed_AS:    4032000 kB\n",
            "VmallocTotal:   34359738367 kB\n",
            "VmallocUsed:       54240 kB\n",
            "VmallocChunk:          0 kB\n",
            "Percpu:             1344 kB\n",
            "HardwareCorrupted:     0 kB\n",
            "AnonHugePages:         0 kB\n",
            "ShmemHugePages:        0 kB\n",
            "ShmemPmdMapped:        0 kB\n",
            "FileHugePages:         0 kB\n",
            "FilePmdMapped:         0 kB\n",
            "CmaTotal:              0 kB\n",
            "CmaFree:               0 kB\n",
            "HugePages_Total:       0\n",
            "HugePages_Free:        0\n",
            "HugePages_Rsvd:        0\n",
            "HugePages_Surp:        0\n",
            "Hugepagesize:       2048 kB\n",
            "Hugetlb:               0 kB\n",
            "DirectMap4k:      234304 kB\n",
            "DirectMap2M:     7102464 kB\n",
            "DirectMap1G:     8388608 kB\n"
          ]
        }
      ]
    },
    {
      "cell_type": "markdown",
      "source": [
        "Python for scientific computing\n"
      ],
      "metadata": {
        "id": "S2pAfWqHFGrU"
      }
    },
    {
      "cell_type": "code",
      "source": [
        "# General imports\n",
        "%matplotlib inline\n",
        "import numpy as np\n",
        "import pandas as pd\n",
        "import matplotlib.pyplot as plt\n"
      ],
      "metadata": {
        "id": "Xaj-P8x9FtOH"
      },
      "execution_count": 1,
      "outputs": []
    },
    {
      "cell_type": "markdown",
      "source": [
        "Numpy is the fundamental package required for high performance scientific computing on python. It provides:"
      ],
      "metadata": {
        "id": "QdixrI2mGWQu"
      }
    },
    {
      "cell_type": "markdown",
      "source": [
        "Numpy arrays (ndarrays)"
      ],
      "metadata": {
        "id": "QZMC7FcbGrlf"
      }
    },
    {
      "cell_type": "code",
      "source": [
        "# Convert normal Python array to 1-dimensional numpy array\n",
        "np.array((1, 2, 53))\n"
      ],
      "metadata": {
        "colab": {
          "base_uri": "https://localhost:8080/"
        },
        "id": "krP_NimSGx8H",
        "outputId": "7c7446ee-be43-4ddd-bdff-82df9cbfae81"
      },
      "execution_count": 4,
      "outputs": [
        {
          "output_type": "execute_result",
          "data": {
            "text/plain": [
              "array([ 1,  2, 53])"
            ]
          },
          "metadata": {},
          "execution_count": 4
        }
      ]
    },
    {
      "cell_type": "code",
      "source": [
        "\n",
        "# Convert sequences of sequences of sequences ... to n-dim array\n",
        "np.array([(1.5, 2, 3), (4, 5, 6)])"
      ],
      "metadata": {
        "colab": {
          "base_uri": "https://localhost:8080/"
        },
        "id": "ulvPXiFvG1ol",
        "outputId": "51298d15-e5a5-423e-c7cc-abcb388f09b1"
      },
      "execution_count": 3,
      "outputs": [
        {
          "output_type": "execute_result",
          "data": {
            "text/plain": [
              "array([[1.5, 2. , 3. ],\n",
              "       [4. , 5. , 6. ]])"
            ]
          },
          "metadata": {},
          "execution_count": 3
        }
      ]
    },
    {
      "cell_type": "code",
      "source": [
        "# Define element type at creation time\n",
        "np.array([[1, 2], [3, 4]], dtype=complex)"
      ],
      "metadata": {
        "colab": {
          "base_uri": "https://localhost:8080/"
        },
        "id": "dnGfzQ_JG7ya",
        "outputId": "61e9a394-74e7-472f-df10-b403fe1123be"
      },
      "execution_count": 2,
      "outputs": [
        {
          "output_type": "execute_result",
          "data": {
            "text/plain": [
              "array([[1.+0.j, 2.+0.j],\n",
              "       [3.+0.j, 4.+0.j]])"
            ]
          },
          "metadata": {},
          "execution_count": 2
        }
      ]
    },
    {
      "cell_type": "code",
      "source": [
        "\n",
        "my_array = np.array([[1, 0, 3], [0, 1, 2]])\n",
        "my_array.ndim     # number of dimensions (axes), also called the rank\n",
        "my_array.shape    # a matrix with n rows and m columns has shape (n,m)\n",
        "my_array.size     # the total number of elements of the array\n",
        "my_array.dtype    # type of the elements in the array\n",
        "my_array.itemsize # the size in bytes of each element of the array\n"
      ],
      "metadata": {
        "colab": {
          "base_uri": "https://localhost:8080/"
        },
        "id": "sxt7_W_WO8N0",
        "outputId": "868db93d-019a-4643-866c-579caa267504"
      },
      "execution_count": 5,
      "outputs": [
        {
          "output_type": "execute_result",
          "data": {
            "text/plain": [
              "8"
            ]
          },
          "metadata": {},
          "execution_count": 5
        }
      ]
    },
    {
      "cell_type": "code",
      "source": [
        "\n",
        "np.ones(3) # Default type is float64\n",
        "np.zeros([2, 2]) \n",
        "np.empty([2, 2]) # Fills the array with whatever sits in memory\n",
        "np.random.random((2,3))\n",
        "np.random.randint(5, size=(2, 4))"
      ],
      "metadata": {
        "colab": {
          "base_uri": "https://localhost:8080/"
        },
        "id": "rNxgAPfvPKtV",
        "outputId": "22c75ff9-e607-40c1-a58b-c40875710f15"
      },
      "execution_count": 6,
      "outputs": [
        {
          "output_type": "execute_result",
          "data": {
            "text/plain": [
              "array([[4, 4, 3, 1],\n",
              "       [3, 2, 4, 3]])"
            ]
          },
          "metadata": {},
          "execution_count": 6
        }
      ]
    },
    {
      "cell_type": "code",
      "source": [
        "\n",
        "np.linspace(0, 1, num=6)   # Linearly distributed numbers between 0 and 1\n",
        "np.arange(0, 1, step=0.3)  # Fixed step size\n",
        "np.arange(12).reshape(3,4) # Create and reshape\n",
        "np.eye(4)                  # Identity matrix"
      ],
      "metadata": {
        "colab": {
          "base_uri": "https://localhost:8080/"
        },
        "id": "o2Ox5H0LQjjt",
        "outputId": "b55201f7-972c-4af0-b051-ce4abf76a37a"
      },
      "execution_count": 7,
      "outputs": [
        {
          "output_type": "execute_result",
          "data": {
            "text/plain": [
              "array([[1., 0., 0., 0.],\n",
              "       [0., 1., 0., 0.],\n",
              "       [0., 0., 1., 0.],\n",
              "       [0., 0., 0., 1.]])"
            ]
          },
          "metadata": {},
          "execution_count": 7
        }
      ]
    },
    {
      "cell_type": "code",
      "source": [],
      "metadata": {
        "id": "rr0Y6oZCQjYF"
      },
      "execution_count": null,
      "outputs": []
    }
  ]
}